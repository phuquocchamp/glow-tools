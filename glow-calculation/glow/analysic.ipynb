{
 "cells": [
  {
   "cell_type": "markdown",
   "id": "db34cb86-3045-40c9-bb19-ed56a60c62a4",
   "metadata": {},
   "source": [
    "## IMPORT DATA FILE\n"
   ]
  },
  {
   "cell_type": "markdown",
   "id": "16a0d7de-71cd-41e7-8905-727d89a54c89",
   "metadata": {},
   "source": [
    "## Read CSV file & Refomart data file structure\n"
   ]
  },
  {
   "cell_type": "code",
   "execution_count": 1,
   "id": "a7d5f94f-1b55-4933-8a76-0978bf22d4fb",
   "metadata": {},
   "outputs": [
    {
     "name": "stdout",
     "output_type": "stream",
     "text": [
      "Index(['PALS_ID', 'FULLNAME', 'COURSE_NAME', 'DURATION'], dtype='object')\n"
     ]
    }
   ],
   "source": [
    "import os\n",
    "import re\n",
    "import pandas\n",
    "from IPython.display import HTML\n",
    "\n",
    "monthly_path = \"T7\"\n",
    "\n",
    "df = pandas.read_csv(\"./data/2025/\" + monthly_path + \"_REPORT.csv\")\n",
    "\n",
    "# Tách cột fullname thành PALS_ID và FULLNAME mới\n",
    "df[[\"PALS_ID\", \"FULLNAME\"]] = df[\"Full name\"].str.extract(r\"(\\S+)\\s+(.+)\")\n",
    "\n",
    "# Chuyển PALS_ID thành viết hoa hết\n",
    "df[\"PALS_ID\"] = df[\"PALS_ID\"].str.upper()\n",
    "\n",
    "# Chuyển FULLNAME thành viết hoa chữ cái đầu của mỗi từ\n",
    "df[\"FULLNAME\"] = df[\"FULLNAME\"].str.title()\n",
    "\n",
    "# Rename the columns to the desired names\n",
    "df.rename(\n",
    "    columns={\n",
    "        \"PALS_ID\": \"PALS_ID\",\n",
    "        \"FULLNAME\": \"FULLNAME\",\n",
    "        \"Username\": \"USERNAME\",\n",
    "        \"Course short name\": \"COURSE_NAME\",\n",
    "        \"Session duration\": \"DURATION\",\n",
    "    },\n",
    "    inplace=True,\n",
    ")\n",
    "\n",
    "df.drop(columns=[\"USERNAME\"], inplace=True)\n",
    "# QT18P0085\n",
    "pattern = r\"[A-Z]{2}[0-9]{2}[A-Z]{1}[0-9]{4}\"\n",
    "\n",
    "# Kiểm tra PALS_ID có khớp với regex hay không, và loại bỏ các giá trị không khớp\n",
    "df = df[df[\"PALS_ID\"].str.match(pattern, na=False)]\n",
    "\n",
    "# Đổi tên và sắp xếp lại thứ tự các cột\n",
    "df = df[[\"PALS_ID\", \"FULLNAME\", \"COURSE_NAME\", \"DURATION\"]]\n",
    "\n",
    "# In ra danh sách các cột để kiểm tra thứ tự và tên cột\n",
    "print(df.columns)"
   ]
  },
  {
   "cell_type": "markdown",
   "id": "8e2d39e6-0f32-4347-aebc-788c341e2aa1",
   "metadata": {},
   "source": [
    "## Convert Duration Function\n"
   ]
  },
  {
   "cell_type": "code",
   "execution_count": 2,
   "id": "2ea6a793-19c1-4e2d-96c5-4e111bb713c8",
   "metadata": {},
   "outputs": [],
   "source": [
    "# Define the function to convert session duration to minutes\n",
    "def convert_duration_to_minutes(duration):\n",
    "    hours = 0\n",
    "    minutes = 0\n",
    "    seconds = 0\n",
    "\n",
    "    # Extract hours, minutes, and seconds using regex\n",
    "    if \"hour\" in duration:\n",
    "        hours_match = re.search(r\"(\\d+)\\s*hour\", duration)\n",
    "        if hours_match:\n",
    "            hours = int(hours_match.group(1))\n",
    "\n",
    "    if \"min\" in duration:\n",
    "        minutes_match = re.search(r\"(\\d+)\\s*min\", duration)\n",
    "        if minutes_match:\n",
    "            minutes = int(minutes_match.group(1))\n",
    "\n",
    "    if \"sec\" in duration:\n",
    "        seconds_match = re.search(r\"(\\d+)\\s*sec\", duration)\n",
    "        if seconds_match:\n",
    "            seconds = int(seconds_match.group(1))\n",
    "\n",
    "    # Convert to total minutes\n",
    "    total_minutes = hours * 60 + minutes + seconds / 60\n",
    "    return total_minutes"
   ]
  },
  {
   "cell_type": "markdown",
   "id": "9c1dedc3-9647-4815-bbfd-d614b4d1f5a9",
   "metadata": {},
   "source": [
    "## Apply Convert Duration, Format and Merge Data\n"
   ]
  },
  {
   "cell_type": "code",
   "execution_count": 3,
   "id": "f190e335-7629-4be9-9628-e94dcddea983",
   "metadata": {},
   "outputs": [],
   "source": [
    "df[\"DURATION\"] = df[\"DURATION\"].apply(convert_duration_to_minutes)\n",
    "\n",
    "# Gộp các hàng có cùng fullname và course_name, sau đó tính tổng thời gian\n",
    "merged_df = (\n",
    "    df.groupby([\"PALS_ID\", \"FULLNAME\", \"COURSE_NAME\"])[\"DURATION\"].sum().reset_index()\n",
    ")"
   ]
  },
  {
   "cell_type": "code",
   "execution_count": 4,
   "id": "f2ce549f-bac3-45ff-aa22-2d37c32f8bf1",
   "metadata": {},
   "outputs": [
    {
     "name": "stdout",
     "output_type": "stream",
     "text": [
      "Data has been exported to 'merged_report.csv' successfully.\n"
     ]
    }
   ],
   "source": [
    "merged_df.to_csv(\n",
    "    \"./export/2025/\" + monthly_path + \"/analysic_report.csv\",\n",
    "    index=False,\n",
    "    encoding=\"utf-8-sig\",\n",
    ")\n",
    "print(\"Data has been exported to 'merged_report.csv' successfully.\")"
   ]
  },
  {
   "cell_type": "markdown",
   "id": "945c0f5a-93ba-4af4-956c-bce06f8e0475",
   "metadata": {},
   "source": [
    "## UNIQUE\n"
   ]
  },
  {
   "cell_type": "code",
   "execution_count": 9,
   "id": "8da95aa7-7cbf-45f7-ae82-1b60340ec2a5",
   "metadata": {},
   "outputs": [
    {
     "name": "stdout",
     "output_type": "stream",
     "text": [
      "TOEIC Practice\n",
      "\n",
      "ETOP Beginner\n",
      "\n",
      "TED Talks - General 1\n",
      "\n",
      "Grammar\n",
      "\n",
      "Pronunciation - Beginner\n",
      "\n",
      "Khan academy\n",
      "\n",
      "Camper Orientation\n",
      "\n",
      "IELTS Speaking\n",
      "\n",
      "Learn English though Books\n",
      "\n",
      "Pronunciation - Advanced\n",
      "\n",
      "English for Starters\n",
      "\n",
      "English Placement Assessment\n",
      "\n",
      "Idioms / Collocation\n",
      "\n",
      "Learn vocabulary with Quizlet\n",
      "\n",
      "Learn English though Songs\n",
      "\n",
      "TED Talks - General 3\n",
      "\n",
      "Sentence Diagramming\n",
      "\n",
      "GRIT Summer Course 2025\n",
      "\n",
      "TED Talks Career\n",
      "\n",
      "Learn English though Movies\n",
      "\n",
      "How to use ChatBot AI\n",
      "\n",
      "IELTS Practice\n",
      "\n",
      "TED Talks - General 2\n",
      "\n",
      "Volunteer Orientation\n",
      "\n",
      "SM2209\n",
      "\n",
      "ETOP Intermediate\n",
      "\n",
      "IELTS Writing\n",
      "\n",
      "Demo course\n",
      "\n",
      "ETOP Advanced\n",
      "\n",
      "EM 303 2024 SuccessPath Mentoring\n",
      "\n",
      "PALS English Self-Learning\n",
      "\n",
      "TED Talks Career Deck\n",
      "\n",
      "Pronunciation - Intermediate\n",
      "\n",
      "TED Talks AI\n",
      "\n",
      "English Library\n",
      "\n",
      "ETOP Coaching for College\n",
      "\n",
      "EM291: How does my major fit into different industries? - Jocelyn Tran\n",
      "\n",
      "SEEDS Handbook\n",
      "\n",
      "ETOP Orientation for students\n",
      "\n",
      "Learn English through songs - old\n",
      "\n",
      "EM295: English Skills Boost - Robert Vos\n",
      "\n",
      "EM290: Electronic recycling - Robert Vos\n",
      "\n",
      "EM296 - Building a Standout Resume with AI Assistant\n",
      "\n",
      "IELTS Speaking Tutor Orientation\n",
      "\n",
      "EM250: Intel\n",
      "\n",
      "EM288: How to have a Great STEM Interview? - Brianna Ha\n",
      "\n",
      "EM281: Giao tiếp đa văn hóa\n",
      "\n",
      "Presenter Orientation\n",
      "\n"
     ]
    }
   ],
   "source": [
    "unique_courses = df[\"COURSE_NAME\"].unique()\n",
    "for course in unique_courses:\n",
    "    print(course + \"\\n\")"
   ]
  },
  {
   "cell_type": "code",
   "execution_count": null,
   "id": "7167c28a-b5ec-4fb8-9ab6-76d8ebe765ba",
   "metadata": {},
   "outputs": [],
   "source": []
  },
  {
   "cell_type": "code",
   "execution_count": null,
   "id": "0017f6b5-8a96-427f-8b8c-e68a9b5ee5de",
   "metadata": {},
   "outputs": [],
   "source": []
  }
 ],
 "metadata": {
  "kernelspec": {
   "display_name": "Python 3 (ipykernel)",
   "language": "python",
   "name": "python3"
  },
  "language_info": {
   "codemirror_mode": {
    "name": "ipython",
    "version": 3
   },
   "file_extension": ".py",
   "mimetype": "text/x-python",
   "name": "python",
   "nbconvert_exporter": "python",
   "pygments_lexer": "ipython3",
   "version": "3.13.4"
  }
 },
 "nbformat": 4,
 "nbformat_minor": 5
}
