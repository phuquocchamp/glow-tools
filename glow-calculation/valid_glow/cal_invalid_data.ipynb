{
 "cells": [
  {
   "cell_type": "markdown",
   "id": "fa7606ba9f31893e",
   "metadata": {},
   "source": [
    "## 1. IMPORT LIBRARY"
   ]
  },
  {
   "cell_type": "code",
   "execution_count": 1,
   "id": "initial_id",
   "metadata": {
    "ExecuteTime": {
     "end_time": "2025-02-22T17:19:18.272470Z",
     "start_time": "2025-02-22T17:19:17.229855Z"
    }
   },
   "outputs": [
    {
     "data": {
      "text/html": [
       "<table border=\"1\" class=\"dataframe\">\n",
       "  <thead>\n",
       "    <tr style=\"text-align: right;\">\n",
       "      <th></th>\n",
       "      <th>Unnamed: 0</th>\n",
       "      <th>PALS_ID</th>\n",
       "      <th>FULLNAME</th>\n",
       "      <th>EMAIL</th>\n",
       "      <th>COURSE</th>\n",
       "      <th>START_TIME</th>\n",
       "      <th>DURATION</th>\n",
       "      <th>END_TIME</th>\n",
       "      <th>CONFLICT</th>\n",
       "    </tr>\n",
       "  </thead>\n",
       "  <tbody>\n",
       "    <tr>\n",
       "      <th>0</th>\n",
       "      <td>368</td>\n",
       "      <td>BD19P0251</td>\n",
       "      <td>Mai Bá Khánh Trình</td>\n",
       "      <td>khanhtrinhct2005@gmail.com</td>\n",
       "      <td>Sentence Diagramming</td>\n",
       "      <td>2025-07-16 21:31:00</td>\n",
       "      <td>1.033333</td>\n",
       "      <td>2025-07-16 22:33:00</td>\n",
       "      <td>True</td>\n",
       "    </tr>\n",
       "    <tr>\n",
       "      <th>1</th>\n",
       "      <td>370</td>\n",
       "      <td>BD19P0251</td>\n",
       "      <td>Mai Bá Khánh Trình</td>\n",
       "      <td>khanhtrinhct2005@gmail.com</td>\n",
       "      <td>Grammar</td>\n",
       "      <td>2025-07-16 21:32:00</td>\n",
       "      <td>1.016667</td>\n",
       "      <td>2025-07-16 22:33:00</td>\n",
       "      <td>True</td>\n",
       "    </tr>\n",
       "  </tbody>\n",
       "</table>"
      ],
      "text/plain": [
       "<IPython.core.display.HTML object>"
      ]
     },
     "execution_count": 1,
     "metadata": {},
     "output_type": "execute_result"
    }
   ],
   "source": [
    "import pandas as pd\n",
    "import os\n",
    "import re\n",
    "from IPython.display import HTML\n",
    "\n",
    "df = pd.read_excel('./export/invalid_data.xlsx')\n",
    "HTML(df.head(20).to_html())\n"
   ]
  },
  {
   "cell_type": "markdown",
   "id": "5c587ac0aa9b3fe9",
   "metadata": {},
   "source": [
    "## 2. MERGE DATA"
   ]
  },
  {
   "cell_type": "code",
   "execution_count": 2,
   "id": "e79b5c304815d643",
   "metadata": {
    "ExecuteTime": {
     "end_time": "2025-02-22T17:20:47.143752Z",
     "start_time": "2025-02-22T17:20:47.131467Z"
    }
   },
   "outputs": [
    {
     "data": {
      "text/html": [
       "<table border=\"1\" class=\"dataframe\">\n",
       "  <thead>\n",
       "    <tr style=\"text-align: right;\">\n",
       "      <th></th>\n",
       "      <th>PALS_ID</th>\n",
       "      <th>FULLNAME</th>\n",
       "      <th>DURATION</th>\n",
       "    </tr>\n",
       "  </thead>\n",
       "  <tbody>\n",
       "    <tr>\n",
       "      <th>0</th>\n",
       "      <td>BD19P0251</td>\n",
       "      <td>Mai Bá Khánh Trình</td>\n",
       "      <td>2.05</td>\n",
       "    </tr>\n",
       "  </tbody>\n",
       "</table>"
      ],
      "text/plain": [
       "<IPython.core.display.HTML object>"
      ]
     },
     "execution_count": 2,
     "metadata": {},
     "output_type": "execute_result"
    }
   ],
   "source": [
    "merged_df = (\n",
    "    df.groupby([\"PALS_ID\", \"FULLNAME\"])[\"DURATION\"].sum().reset_index()\n",
    ")\n",
    "\n",
    "HTML(merged_df.head(20).to_html())"
   ]
  },
  {
   "cell_type": "markdown",
   "id": "f328946d459f95bf",
   "metadata": {},
   "source": [
    "## 3. SAVE FILE"
   ]
  },
  {
   "cell_type": "code",
   "execution_count": 4,
   "id": "57d936e57bb9e788",
   "metadata": {
    "ExecuteTime": {
     "end_time": "2025-02-22T17:21:40.081231Z",
     "start_time": "2025-02-22T17:21:40.018808Z"
    }
   },
   "outputs": [
    {
     "name": "stdout",
     "output_type": "stream",
     "text": [
      "SAVE FILE SUCCESSFULLY!\n"
     ]
    }
   ],
   "source": [
    "merged_df.to_excel(\"./export/final/invalid_report.xlsx\")\n",
    "print(\"SAVE FILE SUCCESSFULLY!\")"
   ]
  },
  {
   "cell_type": "code",
   "execution_count": null,
   "id": "6108f869ab5450b6",
   "metadata": {},
   "outputs": [],
   "source": []
  }
 ],
 "metadata": {
  "kernelspec": {
   "display_name": "Python 3 (ipykernel)",
   "language": "python",
   "name": "python3"
  },
  "language_info": {
   "codemirror_mode": {
    "name": "ipython",
    "version": 3
   },
   "file_extension": ".py",
   "mimetype": "text/x-python",
   "name": "python",
   "nbconvert_exporter": "python",
   "pygments_lexer": "ipython3",
   "version": "3.13.4"
  }
 },
 "nbformat": 4,
 "nbformat_minor": 5
}
