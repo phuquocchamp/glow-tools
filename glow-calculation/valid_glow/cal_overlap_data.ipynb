{
 "cells": [
  {
   "cell_type": "markdown",
   "id": "375e7cd1ae3bf6eb",
   "metadata": {},
   "source": [
    "## 1. IMPORT LIBRARY"
   ]
  },
  {
   "cell_type": "code",
   "execution_count": 1,
   "id": "initial_id",
   "metadata": {
    "ExecuteTime": {
     "end_time": "2025-02-22T18:02:18.473339Z",
     "start_time": "2025-02-22T18:02:18.102679Z"
    }
   },
   "outputs": [
    {
     "data": {
      "text/html": [
       "<table border=\"1\" class=\"dataframe\">\n",
       "  <thead>\n",
       "    <tr style=\"text-align: right;\">\n",
       "      <th></th>\n",
       "      <th>Unnamed: 0</th>\n",
       "      <th>PALS_ID</th>\n",
       "      <th>FULLNAME</th>\n",
       "      <th>EMAIL</th>\n",
       "      <th>COURSE</th>\n",
       "      <th>START_TIME</th>\n",
       "      <th>DURATION</th>\n",
       "      <th>END_TIME</th>\n",
       "      <th>CONFLICT</th>\n",
       "    </tr>\n",
       "  </thead>\n",
       "  <tbody>\n",
       "    <tr>\n",
       "      <th>0</th>\n",
       "      <td>368</td>\n",
       "      <td>BD19P0251</td>\n",
       "      <td>Mai Bá Khánh Trình</td>\n",
       "      <td>khanhtrinhct2005@gmail.com</td>\n",
       "      <td>Sentence Diagramming</td>\n",
       "      <td>2025-07-16 21:31:00</td>\n",
       "      <td>1.033333</td>\n",
       "      <td>2025-07-16 22:33:00</td>\n",
       "      <td>True</td>\n",
       "    </tr>\n",
       "    <tr>\n",
       "      <th>1</th>\n",
       "      <td>370</td>\n",
       "      <td>BD19P0251</td>\n",
       "      <td>Mai Bá Khánh Trình</td>\n",
       "      <td>khanhtrinhct2005@gmail.com</td>\n",
       "      <td>Grammar</td>\n",
       "      <td>2025-07-16 21:32:00</td>\n",
       "      <td>1.016667</td>\n",
       "      <td>2025-07-16 22:33:00</td>\n",
       "      <td>True</td>\n",
       "    </tr>\n",
       "  </tbody>\n",
       "</table>"
      ],
      "text/plain": [
       "<IPython.core.display.HTML object>"
      ]
     },
     "execution_count": 1,
     "metadata": {},
     "output_type": "execute_result"
    }
   ],
   "source": [
    "import pandas as pd\n",
    "import os\n",
    "import re\n",
    "from IPython.display import HTML\n",
    "\n",
    "df = pd.read_excel('./export/invalid_data.xlsx')\n",
    "HTML(df.head(20).to_html())\n"
   ]
  },
  {
   "cell_type": "markdown",
   "id": "237f270cf1e5583",
   "metadata": {},
   "source": [
    "## 2. CAL INVALID DATA"
   ]
  },
  {
   "cell_type": "markdown",
   "id": "a2bb402b3ff6ac66",
   "metadata": {},
   "source": [
    "### 2.1 Create Date Column"
   ]
  },
  {
   "cell_type": "code",
   "execution_count": 2,
   "id": "e82e3e7599e755f9",
   "metadata": {
    "ExecuteTime": {
     "end_time": "2025-02-22T18:02:18.526994Z",
     "start_time": "2025-02-22T18:02:18.515353Z"
    }
   },
   "outputs": [
    {
     "data": {
      "text/html": [
       "<table border=\"1\" class=\"dataframe\">\n",
       "  <thead>\n",
       "    <tr style=\"text-align: right;\">\n",
       "      <th></th>\n",
       "      <th>Unnamed: 0</th>\n",
       "      <th>PALS_ID</th>\n",
       "      <th>FULLNAME</th>\n",
       "      <th>EMAIL</th>\n",
       "      <th>COURSE</th>\n",
       "      <th>START_TIME</th>\n",
       "      <th>DURATION</th>\n",
       "      <th>END_TIME</th>\n",
       "      <th>CONFLICT</th>\n",
       "      <th>DATE</th>\n",
       "    </tr>\n",
       "  </thead>\n",
       "  <tbody>\n",
       "    <tr>\n",
       "      <th>0</th>\n",
       "      <td>368</td>\n",
       "      <td>BD19P0251</td>\n",
       "      <td>Mai Bá Khánh Trình</td>\n",
       "      <td>khanhtrinhct2005@gmail.com</td>\n",
       "      <td>Sentence Diagramming</td>\n",
       "      <td>2025-07-16 21:31:00</td>\n",
       "      <td>1.033333</td>\n",
       "      <td>2025-07-16 22:33:00</td>\n",
       "      <td>True</td>\n",
       "      <td>2025-07-16</td>\n",
       "    </tr>\n",
       "    <tr>\n",
       "      <th>1</th>\n",
       "      <td>370</td>\n",
       "      <td>BD19P0251</td>\n",
       "      <td>Mai Bá Khánh Trình</td>\n",
       "      <td>khanhtrinhct2005@gmail.com</td>\n",
       "      <td>Grammar</td>\n",
       "      <td>2025-07-16 21:32:00</td>\n",
       "      <td>1.016667</td>\n",
       "      <td>2025-07-16 22:33:00</td>\n",
       "      <td>True</td>\n",
       "      <td>2025-07-16</td>\n",
       "    </tr>\n",
       "  </tbody>\n",
       "</table>"
      ],
      "text/plain": [
       "<IPython.core.display.HTML object>"
      ]
     },
     "execution_count": 2,
     "metadata": {},
     "output_type": "execute_result"
    }
   ],
   "source": [
    "df['DATE'] = df[('START_TIME')].dt.date\n",
    "\n",
    "HTML(df.head().to_html())"
   ]
  },
  {
   "cell_type": "markdown",
   "id": "f63670b1a5e1263a",
   "metadata": {},
   "source": [
    "### 2.2 Sort Data"
   ]
  },
  {
   "cell_type": "code",
   "execution_count": 3,
   "id": "512c36794f167ab1",
   "metadata": {
    "ExecuteTime": {
     "end_time": "2025-02-22T18:02:18.674470Z",
     "start_time": "2025-02-22T18:02:18.660279Z"
    }
   },
   "outputs": [
    {
     "data": {
      "text/html": [
       "<table border=\"1\" class=\"dataframe\">\n",
       "  <thead>\n",
       "    <tr style=\"text-align: right;\">\n",
       "      <th></th>\n",
       "      <th>Unnamed: 0</th>\n",
       "      <th>PALS_ID</th>\n",
       "      <th>FULLNAME</th>\n",
       "      <th>EMAIL</th>\n",
       "      <th>COURSE</th>\n",
       "      <th>START_TIME</th>\n",
       "      <th>DURATION</th>\n",
       "      <th>END_TIME</th>\n",
       "      <th>CONFLICT</th>\n",
       "      <th>DATE</th>\n",
       "    </tr>\n",
       "  </thead>\n",
       "  <tbody>\n",
       "    <tr>\n",
       "      <th>0</th>\n",
       "      <td>368</td>\n",
       "      <td>BD19P0251</td>\n",
       "      <td>Mai Bá Khánh Trình</td>\n",
       "      <td>khanhtrinhct2005@gmail.com</td>\n",
       "      <td>Sentence Diagramming</td>\n",
       "      <td>2025-07-16 21:31:00</td>\n",
       "      <td>1.033333</td>\n",
       "      <td>2025-07-16 22:33:00</td>\n",
       "      <td>True</td>\n",
       "      <td>2025-07-16</td>\n",
       "    </tr>\n",
       "    <tr>\n",
       "      <th>1</th>\n",
       "      <td>370</td>\n",
       "      <td>BD19P0251</td>\n",
       "      <td>Mai Bá Khánh Trình</td>\n",
       "      <td>khanhtrinhct2005@gmail.com</td>\n",
       "      <td>Grammar</td>\n",
       "      <td>2025-07-16 21:32:00</td>\n",
       "      <td>1.016667</td>\n",
       "      <td>2025-07-16 22:33:00</td>\n",
       "      <td>True</td>\n",
       "      <td>2025-07-16</td>\n",
       "    </tr>\n",
       "  </tbody>\n",
       "</table>"
      ],
      "text/plain": [
       "<IPython.core.display.HTML object>"
      ]
     },
     "execution_count": 3,
     "metadata": {},
     "output_type": "execute_result"
    }
   ],
   "source": [
    "df = df.sort_values(by=['PALS_ID', 'DATE', 'START_TIME'])\n",
    "HTML(df.head().to_html())"
   ]
  },
  {
   "cell_type": "markdown",
   "id": "34a6d1cdda0c0507",
   "metadata": {},
   "source": [
    "### 2.3 MERGE DATA AND GET THE FIRST CELL"
   ]
  },
  {
   "cell_type": "code",
   "execution_count": 4,
   "id": "79cab1597462749",
   "metadata": {
    "ExecuteTime": {
     "end_time": "2025-02-22T18:02:18.969224Z",
     "start_time": "2025-02-22T18:02:18.952970Z"
    }
   },
   "outputs": [
    {
     "data": {
      "text/html": [
       "<table border=\"1\" class=\"dataframe\">\n",
       "  <thead>\n",
       "    <tr style=\"text-align: right;\">\n",
       "      <th></th>\n",
       "      <th>PALS_ID</th>\n",
       "      <th>FULLNAME</th>\n",
       "      <th>DATE</th>\n",
       "      <th>DURATION</th>\n",
       "    </tr>\n",
       "  </thead>\n",
       "  <tbody>\n",
       "    <tr>\n",
       "      <th>0</th>\n",
       "      <td>BD19P0251</td>\n",
       "      <td>Mai Bá Khánh Trình</td>\n",
       "      <td>2025-07-16</td>\n",
       "      <td>1.033333</td>\n",
       "    </tr>\n",
       "  </tbody>\n",
       "</table>"
      ],
      "text/plain": [
       "<IPython.core.display.HTML object>"
      ]
     },
     "execution_count": 4,
     "metadata": {},
     "output_type": "execute_result"
    }
   ],
   "source": [
    "df_first_course = df.groupby(['PALS_ID', 'FULLNAME', 'DATE'])['DURATION'].max().reset_index()\n",
    "HTML(df_first_course.head(20).to_html())"
   ]
  },
  {
   "cell_type": "markdown",
   "id": "f048a11ae61edf07",
   "metadata": {},
   "source": [
    "### 2.4 MERGE DATA AND CAL THE SUM"
   ]
  },
  {
   "cell_type": "code",
   "execution_count": 5,
   "id": "3fa773a796c07dfc",
   "metadata": {
    "ExecuteTime": {
     "end_time": "2025-02-22T18:02:19.265367Z",
     "start_time": "2025-02-22T18:02:19.249393Z"
    }
   },
   "outputs": [
    {
     "data": {
      "text/html": [
       "<table border=\"1\" class=\"dataframe\">\n",
       "  <thead>\n",
       "    <tr style=\"text-align: right;\">\n",
       "      <th></th>\n",
       "      <th>PALS_ID</th>\n",
       "      <th>FULLNAME</th>\n",
       "      <th>DURATION</th>\n",
       "    </tr>\n",
       "  </thead>\n",
       "  <tbody>\n",
       "    <tr>\n",
       "      <th>0</th>\n",
       "      <td>BD19P0251</td>\n",
       "      <td>Mai Bá Khánh Trình</td>\n",
       "      <td>1.033333</td>\n",
       "    </tr>\n",
       "  </tbody>\n",
       "</table>"
      ],
      "text/plain": [
       "<IPython.core.display.HTML object>"
      ]
     },
     "execution_count": 5,
     "metadata": {},
     "output_type": "execute_result"
    }
   ],
   "source": [
    "result = df_first_course.groupby(['PALS_ID', 'FULLNAME'])['DURATION'].sum().reset_index()\n",
    "df2_sum = result\n",
    "HTML(df2_sum.head(20).to_html())"
   ]
  },
  {
   "cell_type": "markdown",
   "id": "2b54c01af821fc33",
   "metadata": {},
   "source": [
    "## 3. MERGE INTO VALID DATA"
   ]
  },
  {
   "cell_type": "markdown",
   "id": "9e74f871b2c92232",
   "metadata": {},
   "source": [
    "### 3.1 Import Valid Data"
   ]
  },
  {
   "cell_type": "code",
   "execution_count": 6,
   "id": "1cf05f4661fc610a",
   "metadata": {
    "ExecuteTime": {
     "end_time": "2025-02-22T18:02:19.962003Z",
     "start_time": "2025-02-22T18:02:19.871269Z"
    }
   },
   "outputs": [
    {
     "data": {
      "text/html": [
       "<table border=\"1\" class=\"dataframe\">\n",
       "  <thead>\n",
       "    <tr style=\"text-align: right;\">\n",
       "      <th></th>\n",
       "      <th>Unnamed: 0</th>\n",
       "      <th>PALS_ID</th>\n",
       "      <th>FULLNAME</th>\n",
       "      <th>DURATION</th>\n",
       "    </tr>\n",
       "  </thead>\n",
       "  <tbody>\n",
       "    <tr>\n",
       "      <th>0</th>\n",
       "      <td>0</td>\n",
       "      <td>AG22P1146</td>\n",
       "      <td>Nguyễn Thị Thanh Trúc</td>\n",
       "      <td>0.209444</td>\n",
       "    </tr>\n",
       "    <tr>\n",
       "      <th>1</th>\n",
       "      <td>1</td>\n",
       "      <td>AG22P1157</td>\n",
       "      <td>Trần Thị Hồng Giao</td>\n",
       "      <td>0.250000</td>\n",
       "    </tr>\n",
       "    <tr>\n",
       "      <th>2</th>\n",
       "      <td>2</td>\n",
       "      <td>AG23P1187</td>\n",
       "      <td>Nguyễn Thị Bảo Châu</td>\n",
       "      <td>34.616667</td>\n",
       "    </tr>\n",
       "    <tr>\n",
       "      <th>3</th>\n",
       "      <td>3</td>\n",
       "      <td>AG23P1189</td>\n",
       "      <td>Nguyễn Thị Tâm Như</td>\n",
       "      <td>0.018611</td>\n",
       "    </tr>\n",
       "    <tr>\n",
       "      <th>4</th>\n",
       "      <td>4</td>\n",
       "      <td>AG23P1192</td>\n",
       "      <td>Võ Thị Yến Linh</td>\n",
       "      <td>0.055833</td>\n",
       "    </tr>\n",
       "    <tr>\n",
       "      <th>5</th>\n",
       "      <td>5</td>\n",
       "      <td>AG23P1204</td>\n",
       "      <td>Nguyễn Cẩm Thúy</td>\n",
       "      <td>0.168333</td>\n",
       "    </tr>\n",
       "    <tr>\n",
       "      <th>6</th>\n",
       "      <td>6</td>\n",
       "      <td>AG23P1214</td>\n",
       "      <td>Đoàn Thị Kim Ngân</td>\n",
       "      <td>0.344722</td>\n",
       "    </tr>\n",
       "    <tr>\n",
       "      <th>7</th>\n",
       "      <td>7</td>\n",
       "      <td>BD19P0183</td>\n",
       "      <td>BÙI  QUANG TRUNG</td>\n",
       "      <td>0.533333</td>\n",
       "    </tr>\n",
       "    <tr>\n",
       "      <th>8</th>\n",
       "      <td>8</td>\n",
       "      <td>BD19P0218</td>\n",
       "      <td>TRƯƠNG HỒ THÙY TRANG</td>\n",
       "      <td>0.366667</td>\n",
       "    </tr>\n",
       "    <tr>\n",
       "      <th>9</th>\n",
       "      <td>9</td>\n",
       "      <td>BD19P0251</td>\n",
       "      <td>Mai Bá Khánh Trình</td>\n",
       "      <td>3.772222</td>\n",
       "    </tr>\n",
       "    <tr>\n",
       "      <th>10</th>\n",
       "      <td>10</td>\n",
       "      <td>BD21P0311</td>\n",
       "      <td>ĐINH ANH QUÂN</td>\n",
       "      <td>4.308611</td>\n",
       "    </tr>\n",
       "    <tr>\n",
       "      <th>11</th>\n",
       "      <td>11</td>\n",
       "      <td>BD21P0323</td>\n",
       "      <td>TRẦN THỊNH PHÁT</td>\n",
       "      <td>37.203333</td>\n",
       "    </tr>\n",
       "    <tr>\n",
       "      <th>12</th>\n",
       "      <td>12</td>\n",
       "      <td>BD21P0324</td>\n",
       "      <td>ĐỖ THỊ KIM TIẾT</td>\n",
       "      <td>1.571111</td>\n",
       "    </tr>\n",
       "    <tr>\n",
       "      <th>13</th>\n",
       "      <td>13</td>\n",
       "      <td>BD22P0331</td>\n",
       "      <td>HUỲNH VĂN HƯƠNG</td>\n",
       "      <td>5.716667</td>\n",
       "    </tr>\n",
       "    <tr>\n",
       "      <th>14</th>\n",
       "      <td>14</td>\n",
       "      <td>BD22P0339</td>\n",
       "      <td>NGUYỄN THỊ CẨM TÚ</td>\n",
       "      <td>0.211389</td>\n",
       "    </tr>\n",
       "    <tr>\n",
       "      <th>15</th>\n",
       "      <td>15</td>\n",
       "      <td>BD23P0354</td>\n",
       "      <td>MAI HUỲNH GIAO</td>\n",
       "      <td>0.603611</td>\n",
       "    </tr>\n",
       "    <tr>\n",
       "      <th>16</th>\n",
       "      <td>16</td>\n",
       "      <td>BD23P0355</td>\n",
       "      <td>HUỲNH THỊ BẢO NGỌC</td>\n",
       "      <td>0.416389</td>\n",
       "    </tr>\n",
       "    <tr>\n",
       "      <th>17</th>\n",
       "      <td>17</td>\n",
       "      <td>BD23P0356</td>\n",
       "      <td>NGUYỄN TRÀ MY</td>\n",
       "      <td>26.933333</td>\n",
       "    </tr>\n",
       "    <tr>\n",
       "      <th>18</th>\n",
       "      <td>18</td>\n",
       "      <td>BD24P0369</td>\n",
       "      <td>NGUYỄN THỊ THANH TIỀN</td>\n",
       "      <td>0.191667</td>\n",
       "    </tr>\n",
       "    <tr>\n",
       "      <th>19</th>\n",
       "      <td>19</td>\n",
       "      <td>BD24P0373</td>\n",
       "      <td>NGUYỄN THÀNH ĐẠT</td>\n",
       "      <td>4.612222</td>\n",
       "    </tr>\n",
       "  </tbody>\n",
       "</table>"
      ],
      "text/plain": [
       "<IPython.core.display.HTML object>"
      ]
     },
     "execution_count": 6,
     "metadata": {},
     "output_type": "execute_result"
    }
   ],
   "source": [
    "df1_sum = pd.read_excel('./export/final/valid_report.xlsx')\n",
    "HTML(df1_sum.head(20).to_html())"
   ]
  },
  {
   "cell_type": "code",
   "execution_count": 7,
   "id": "7b26dfe862a9bb6",
   "metadata": {
    "ExecuteTime": {
     "end_time": "2025-02-22T18:02:20.114998Z",
     "start_time": "2025-02-22T18:02:20.101699Z"
    }
   },
   "outputs": [
    {
     "data": {
      "text/html": [
       "<table border=\"1\" class=\"dataframe\">\n",
       "  <thead>\n",
       "    <tr style=\"text-align: right;\">\n",
       "      <th></th>\n",
       "      <th>Unnamed: 0</th>\n",
       "      <th>PALS_ID</th>\n",
       "      <th>FULLNAME_df1</th>\n",
       "      <th>DURATION_df1</th>\n",
       "      <th>FULLNAME_df2</th>\n",
       "      <th>DURATION_df2</th>\n",
       "    </tr>\n",
       "  </thead>\n",
       "  <tbody>\n",
       "    <tr>\n",
       "      <th>0</th>\n",
       "      <td>0</td>\n",
       "      <td>AG22P1146</td>\n",
       "      <td>Nguyễn Thị Thanh Trúc</td>\n",
       "      <td>0.209444</td>\n",
       "      <td>NaN</td>\n",
       "      <td>NaN</td>\n",
       "    </tr>\n",
       "    <tr>\n",
       "      <th>1</th>\n",
       "      <td>1</td>\n",
       "      <td>AG22P1157</td>\n",
       "      <td>Trần Thị Hồng Giao</td>\n",
       "      <td>0.250000</td>\n",
       "      <td>NaN</td>\n",
       "      <td>NaN</td>\n",
       "    </tr>\n",
       "    <tr>\n",
       "      <th>2</th>\n",
       "      <td>2</td>\n",
       "      <td>AG23P1187</td>\n",
       "      <td>Nguyễn Thị Bảo Châu</td>\n",
       "      <td>34.616667</td>\n",
       "      <td>NaN</td>\n",
       "      <td>NaN</td>\n",
       "    </tr>\n",
       "    <tr>\n",
       "      <th>3</th>\n",
       "      <td>3</td>\n",
       "      <td>AG23P1189</td>\n",
       "      <td>Nguyễn Thị Tâm Như</td>\n",
       "      <td>0.018611</td>\n",
       "      <td>NaN</td>\n",
       "      <td>NaN</td>\n",
       "    </tr>\n",
       "    <tr>\n",
       "      <th>4</th>\n",
       "      <td>4</td>\n",
       "      <td>AG23P1192</td>\n",
       "      <td>Võ Thị Yến Linh</td>\n",
       "      <td>0.055833</td>\n",
       "      <td>NaN</td>\n",
       "      <td>NaN</td>\n",
       "    </tr>\n",
       "    <tr>\n",
       "      <th>5</th>\n",
       "      <td>5</td>\n",
       "      <td>AG23P1204</td>\n",
       "      <td>Nguyễn Cẩm Thúy</td>\n",
       "      <td>0.168333</td>\n",
       "      <td>NaN</td>\n",
       "      <td>NaN</td>\n",
       "    </tr>\n",
       "    <tr>\n",
       "      <th>6</th>\n",
       "      <td>6</td>\n",
       "      <td>AG23P1214</td>\n",
       "      <td>Đoàn Thị Kim Ngân</td>\n",
       "      <td>0.344722</td>\n",
       "      <td>NaN</td>\n",
       "      <td>NaN</td>\n",
       "    </tr>\n",
       "    <tr>\n",
       "      <th>7</th>\n",
       "      <td>7</td>\n",
       "      <td>BD19P0183</td>\n",
       "      <td>BÙI  QUANG TRUNG</td>\n",
       "      <td>0.533333</td>\n",
       "      <td>NaN</td>\n",
       "      <td>NaN</td>\n",
       "    </tr>\n",
       "    <tr>\n",
       "      <th>8</th>\n",
       "      <td>8</td>\n",
       "      <td>BD19P0218</td>\n",
       "      <td>TRƯƠNG HỒ THÙY TRANG</td>\n",
       "      <td>0.366667</td>\n",
       "      <td>NaN</td>\n",
       "      <td>NaN</td>\n",
       "    </tr>\n",
       "    <tr>\n",
       "      <th>9</th>\n",
       "      <td>9</td>\n",
       "      <td>BD19P0251</td>\n",
       "      <td>Mai Bá Khánh Trình</td>\n",
       "      <td>3.772222</td>\n",
       "      <td>Mai Bá Khánh Trình</td>\n",
       "      <td>1.033333</td>\n",
       "    </tr>\n",
       "  </tbody>\n",
       "</table>"
      ],
      "text/plain": [
       "<IPython.core.display.HTML object>"
      ]
     },
     "execution_count": 7,
     "metadata": {},
     "output_type": "execute_result"
    }
   ],
   "source": [
    "# Hợp nhất df1_sum và df2_sum dựa trên PALS_ID\n",
    "df_merged = pd.merge(df1_sum, df2_sum, on='PALS_ID', how='outer', suffixes=('_df1', '_df2'))\n",
    "HTML(df_merged.head(10).to_html())"
   ]
  },
  {
   "cell_type": "code",
   "execution_count": 8,
   "id": "774b691187cb7c53",
   "metadata": {
    "ExecuteTime": {
     "end_time": "2025-02-22T18:02:20.274100Z",
     "start_time": "2025-02-22T18:02:20.257694Z"
    }
   },
   "outputs": [
    {
     "data": {
      "text/html": [
       "<table border=\"1\" class=\"dataframe\">\n",
       "  <thead>\n",
       "    <tr style=\"text-align: right;\">\n",
       "      <th></th>\n",
       "      <th>Unnamed: 0</th>\n",
       "      <th>PALS_ID</th>\n",
       "      <th>FULLNAME_df1</th>\n",
       "      <th>DURATION_df1</th>\n",
       "      <th>FULLNAME_df2</th>\n",
       "      <th>DURATION_df2</th>\n",
       "      <th>TOTAL_DURATION</th>\n",
       "    </tr>\n",
       "  </thead>\n",
       "  <tbody>\n",
       "    <tr>\n",
       "      <th>0</th>\n",
       "      <td>0</td>\n",
       "      <td>AG22P1146</td>\n",
       "      <td>Nguyễn Thị Thanh Trúc</td>\n",
       "      <td>0.209444</td>\n",
       "      <td>NaN</td>\n",
       "      <td>NaN</td>\n",
       "      <td>0.209444</td>\n",
       "    </tr>\n",
       "    <tr>\n",
       "      <th>1</th>\n",
       "      <td>1</td>\n",
       "      <td>AG22P1157</td>\n",
       "      <td>Trần Thị Hồng Giao</td>\n",
       "      <td>0.250000</td>\n",
       "      <td>NaN</td>\n",
       "      <td>NaN</td>\n",
       "      <td>0.250000</td>\n",
       "    </tr>\n",
       "    <tr>\n",
       "      <th>2</th>\n",
       "      <td>2</td>\n",
       "      <td>AG23P1187</td>\n",
       "      <td>Nguyễn Thị Bảo Châu</td>\n",
       "      <td>34.616667</td>\n",
       "      <td>NaN</td>\n",
       "      <td>NaN</td>\n",
       "      <td>34.616667</td>\n",
       "    </tr>\n",
       "    <tr>\n",
       "      <th>3</th>\n",
       "      <td>3</td>\n",
       "      <td>AG23P1189</td>\n",
       "      <td>Nguyễn Thị Tâm Như</td>\n",
       "      <td>0.018611</td>\n",
       "      <td>NaN</td>\n",
       "      <td>NaN</td>\n",
       "      <td>0.018611</td>\n",
       "    </tr>\n",
       "    <tr>\n",
       "      <th>4</th>\n",
       "      <td>4</td>\n",
       "      <td>AG23P1192</td>\n",
       "      <td>Võ Thị Yến Linh</td>\n",
       "      <td>0.055833</td>\n",
       "      <td>NaN</td>\n",
       "      <td>NaN</td>\n",
       "      <td>0.055833</td>\n",
       "    </tr>\n",
       "    <tr>\n",
       "      <th>5</th>\n",
       "      <td>5</td>\n",
       "      <td>AG23P1204</td>\n",
       "      <td>Nguyễn Cẩm Thúy</td>\n",
       "      <td>0.168333</td>\n",
       "      <td>NaN</td>\n",
       "      <td>NaN</td>\n",
       "      <td>0.168333</td>\n",
       "    </tr>\n",
       "    <tr>\n",
       "      <th>6</th>\n",
       "      <td>6</td>\n",
       "      <td>AG23P1214</td>\n",
       "      <td>Đoàn Thị Kim Ngân</td>\n",
       "      <td>0.344722</td>\n",
       "      <td>NaN</td>\n",
       "      <td>NaN</td>\n",
       "      <td>0.344722</td>\n",
       "    </tr>\n",
       "    <tr>\n",
       "      <th>7</th>\n",
       "      <td>7</td>\n",
       "      <td>BD19P0183</td>\n",
       "      <td>BÙI  QUANG TRUNG</td>\n",
       "      <td>0.533333</td>\n",
       "      <td>NaN</td>\n",
       "      <td>NaN</td>\n",
       "      <td>0.533333</td>\n",
       "    </tr>\n",
       "    <tr>\n",
       "      <th>8</th>\n",
       "      <td>8</td>\n",
       "      <td>BD19P0218</td>\n",
       "      <td>TRƯƠNG HỒ THÙY TRANG</td>\n",
       "      <td>0.366667</td>\n",
       "      <td>NaN</td>\n",
       "      <td>NaN</td>\n",
       "      <td>0.366667</td>\n",
       "    </tr>\n",
       "    <tr>\n",
       "      <th>9</th>\n",
       "      <td>9</td>\n",
       "      <td>BD19P0251</td>\n",
       "      <td>Mai Bá Khánh Trình</td>\n",
       "      <td>3.772222</td>\n",
       "      <td>Mai Bá Khánh Trình</td>\n",
       "      <td>1.033333</td>\n",
       "      <td>4.805556</td>\n",
       "    </tr>\n",
       "  </tbody>\n",
       "</table>"
      ],
      "text/plain": [
       "<IPython.core.display.HTML object>"
      ]
     },
     "execution_count": 8,
     "metadata": {},
     "output_type": "execute_result"
    }
   ],
   "source": [
    "# Tạo cột 'TOTAL_DURATION' bằng cách cộng 'DURATION_df1' và 'DURATION_df2'\n",
    "df_merged['TOTAL_DURATION'] = df_merged['DURATION_df1'].fillna(0) + df_merged['DURATION_df2'].fillna(0)\n",
    "HTML(df_merged.head(10).to_html())"
   ]
  },
  {
   "cell_type": "code",
   "execution_count": 9,
   "id": "91aec03bee801fad",
   "metadata": {
    "ExecuteTime": {
     "end_time": "2025-02-22T18:02:20.573338Z",
     "start_time": "2025-02-22T18:02:20.563412Z"
    }
   },
   "outputs": [
    {
     "name": "stderr",
     "output_type": "stream",
     "text": [
      "C:\\Users\\quochoang\\AppData\\Local\\Temp\\ipykernel_10244\\4274393257.py:4: SettingWithCopyWarning: \n",
      "A value is trying to be set on a copy of a slice from a DataFrame\n",
      "\n",
      "See the caveats in the documentation: https://pandas.pydata.org/pandas-docs/stable/user_guide/indexing.html#returning-a-view-versus-a-copy\n",
      "  final.rename(columns={\n"
     ]
    },
    {
     "data": {
      "text/html": [
       "<table border=\"1\" class=\"dataframe\">\n",
       "  <thead>\n",
       "    <tr style=\"text-align: right;\">\n",
       "      <th></th>\n",
       "      <th>PALS_ID</th>\n",
       "      <th>FULLNAME</th>\n",
       "      <th>TOTAL_DURATION</th>\n",
       "    </tr>\n",
       "  </thead>\n",
       "  <tbody>\n",
       "    <tr>\n",
       "      <th>0</th>\n",
       "      <td>AG22P1146</td>\n",
       "      <td>Nguyễn Thị Thanh Trúc</td>\n",
       "      <td>0.209444</td>\n",
       "    </tr>\n",
       "    <tr>\n",
       "      <th>1</th>\n",
       "      <td>AG22P1157</td>\n",
       "      <td>Trần Thị Hồng Giao</td>\n",
       "      <td>0.250000</td>\n",
       "    </tr>\n",
       "    <tr>\n",
       "      <th>2</th>\n",
       "      <td>AG23P1187</td>\n",
       "      <td>Nguyễn Thị Bảo Châu</td>\n",
       "      <td>34.616667</td>\n",
       "    </tr>\n",
       "    <tr>\n",
       "      <th>3</th>\n",
       "      <td>AG23P1189</td>\n",
       "      <td>Nguyễn Thị Tâm Như</td>\n",
       "      <td>0.018611</td>\n",
       "    </tr>\n",
       "    <tr>\n",
       "      <th>4</th>\n",
       "      <td>AG23P1192</td>\n",
       "      <td>Võ Thị Yến Linh</td>\n",
       "      <td>0.055833</td>\n",
       "    </tr>\n",
       "    <tr>\n",
       "      <th>5</th>\n",
       "      <td>AG23P1204</td>\n",
       "      <td>Nguyễn Cẩm Thúy</td>\n",
       "      <td>0.168333</td>\n",
       "    </tr>\n",
       "    <tr>\n",
       "      <th>6</th>\n",
       "      <td>AG23P1214</td>\n",
       "      <td>Đoàn Thị Kim Ngân</td>\n",
       "      <td>0.344722</td>\n",
       "    </tr>\n",
       "    <tr>\n",
       "      <th>7</th>\n",
       "      <td>BD19P0183</td>\n",
       "      <td>BÙI  QUANG TRUNG</td>\n",
       "      <td>0.533333</td>\n",
       "    </tr>\n",
       "    <tr>\n",
       "      <th>8</th>\n",
       "      <td>BD19P0218</td>\n",
       "      <td>TRƯƠNG HỒ THÙY TRANG</td>\n",
       "      <td>0.366667</td>\n",
       "    </tr>\n",
       "    <tr>\n",
       "      <th>9</th>\n",
       "      <td>BD19P0251</td>\n",
       "      <td>Mai Bá Khánh Trình</td>\n",
       "      <td>4.805556</td>\n",
       "    </tr>\n",
       "  </tbody>\n",
       "</table>"
      ],
      "text/plain": [
       "<IPython.core.display.HTML object>"
      ]
     },
     "execution_count": 9,
     "metadata": {},
     "output_type": "execute_result"
    }
   ],
   "source": [
    "# Chọn các cột 'PALS_ID' và 'TOTAL_DURATION'\n",
    "final = df_merged[['PALS_ID', 'FULLNAME_df1' ,'TOTAL_DURATION']]\n",
    "\n",
    "final.rename(columns={\n",
    "    \"FULLNAME_df1\": \"FULLNAME\"\n",
    "}, inplace=True)\n",
    "HTML(final.head(10).to_html())"
   ]
  },
  {
   "cell_type": "code",
   "execution_count": 10,
   "id": "246911d852192081",
   "metadata": {
    "ExecuteTime": {
     "end_time": "2025-02-22T18:04:43.593977Z",
     "start_time": "2025-02-22T18:04:43.478868Z"
    }
   },
   "outputs": [
    {
     "name": "stdout",
     "output_type": "stream",
     "text": [
      "SAVE FILE SUCCESSFULLY!\n"
     ]
    }
   ],
   "source": [
    "final.to_excel(\"./export/final/total_check_max_session.xlsx\")\n",
    "print(\"SAVE FILE SUCCESSFULLY!\")"
   ]
  },
  {
   "cell_type": "code",
   "execution_count": null,
   "id": "df75015bdc378b45",
   "metadata": {},
   "outputs": [],
   "source": []
  }
 ],
 "metadata": {
  "kernelspec": {
   "display_name": "Python 3 (ipykernel)",
   "language": "python",
   "name": "python3"
  },
  "language_info": {
   "codemirror_mode": {
    "name": "ipython",
    "version": 3
   },
   "file_extension": ".py",
   "mimetype": "text/x-python",
   "name": "python",
   "nbconvert_exporter": "python",
   "pygments_lexer": "ipython3",
   "version": "3.13.4"
  }
 },
 "nbformat": 4,
 "nbformat_minor": 5
}
