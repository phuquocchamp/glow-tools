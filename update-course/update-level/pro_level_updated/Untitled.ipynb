{
 "cells": [
  {
   "cell_type": "code",
   "execution_count": 1,
   "id": "08d40418-751b-4d5c-870a-ad8f563cfc3c",
   "metadata": {},
   "outputs": [],
   "source": [
    "import pandas as pd"
   ]
  },
  {
   "cell_type": "code",
   "execution_count": 2,
   "id": "836c523c-c83f-4f1a-b40b-08864505ccc1",
   "metadata": {},
   "outputs": [],
   "source": [
    "inter_to_adv = pd.read_csv(\"./intermediate_to_advanced.csv\")\n",
    "begin_to_inter = pd.read_csv(\"./beginner_to_intermediate.csv\")"
   ]
  },
  {
   "cell_type": "code",
   "execution_count": 4,
   "id": "4179f1c2-eeab-42fd-b394-ef74f5643800",
   "metadata": {},
   "outputs": [
    {
     "data": {
      "text/plain": [
       "(2750, 6)"
      ]
     },
     "execution_count": 4,
     "metadata": {},
     "output_type": "execute_result"
    }
   ],
   "source": [
    "begin_to_inter.shape"
   ]
  },
  {
   "cell_type": "code",
   "execution_count": 5,
   "id": "2f29a1de-b212-42b5-826c-984de426c2d1",
   "metadata": {},
   "outputs": [
    {
     "data": {
      "text/plain": [
       "(3008, 6)"
      ]
     },
     "execution_count": 5,
     "metadata": {},
     "output_type": "execute_result"
    }
   ],
   "source": [
    "inter_to_adv.shape"
   ]
  },
  {
   "cell_type": "code",
   "execution_count": 7,
   "id": "c96689ee-bcb5-458e-82c7-5d3c4161e910",
   "metadata": {},
   "outputs": [
    {
     "data": {
      "text/html": [
       "<div>\n",
       "<style scoped>\n",
       "    .dataframe tbody tr th:only-of-type {\n",
       "        vertical-align: middle;\n",
       "    }\n",
       "\n",
       "    .dataframe tbody tr th {\n",
       "        vertical-align: top;\n",
       "    }\n",
       "\n",
       "    .dataframe thead th {\n",
       "        text-align: right;\n",
       "    }\n",
       "</style>\n",
       "<table border=\"1\" class=\"dataframe\">\n",
       "  <thead>\n",
       "    <tr style=\"text-align: right;\">\n",
       "      <th></th>\n",
       "      <th>firstname</th>\n",
       "      <th>lastname</th>\n",
       "      <th>username</th>\n",
       "      <th>course1</th>\n",
       "      <th>role1</th>\n",
       "      <th>cohort1</th>\n",
       "    </tr>\n",
       "  </thead>\n",
       "  <tbody>\n",
       "    <tr>\n",
       "      <th>0</th>\n",
       "      <td>QG22P0619</td>\n",
       "      <td>Bạch Thị Thanh Hòa</td>\n",
       "      <td>hoa.qg22p0619</td>\n",
       "      <td>Pronunciation - Advanced</td>\n",
       "      <td>student</td>\n",
       "      <td>PROA-2025</td>\n",
       "    </tr>\n",
       "    <tr>\n",
       "      <th>1</th>\n",
       "      <td>QN21P0665</td>\n",
       "      <td>BH NƯỚC LY NA</td>\n",
       "      <td>na.qn21p0665</td>\n",
       "      <td>Pronunciation - Advanced</td>\n",
       "      <td>student</td>\n",
       "      <td>PROA-2025</td>\n",
       "    </tr>\n",
       "    <tr>\n",
       "      <th>2</th>\n",
       "      <td>QG22P0610</td>\n",
       "      <td>Biện Thị Cẩm</td>\n",
       "      <td>cam.qg22p0610</td>\n",
       "      <td>Pronunciation - Advanced</td>\n",
       "      <td>student</td>\n",
       "      <td>PROA-2025</td>\n",
       "    </tr>\n",
       "    <tr>\n",
       "      <th>3</th>\n",
       "      <td>PY17P0058</td>\n",
       "      <td>BIỆN THỊ DIỆU</td>\n",
       "      <td>bienthidieu</td>\n",
       "      <td>Pronunciation - Advanced</td>\n",
       "      <td>student</td>\n",
       "      <td>PROA-2025</td>\n",
       "    </tr>\n",
       "    <tr>\n",
       "      <th>4</th>\n",
       "      <td>QG23P0644</td>\n",
       "      <td>BIỆN THỊ NHƯ HÀ</td>\n",
       "      <td>ha.qg23p0644</td>\n",
       "      <td>Pronunciation - Advanced</td>\n",
       "      <td>student</td>\n",
       "      <td>PROA-2025</td>\n",
       "    </tr>\n",
       "    <tr>\n",
       "      <th>...</th>\n",
       "      <td>...</td>\n",
       "      <td>...</td>\n",
       "      <td>...</td>\n",
       "      <td>...</td>\n",
       "      <td>...</td>\n",
       "      <td>...</td>\n",
       "    </tr>\n",
       "    <tr>\n",
       "      <th>3003</th>\n",
       "      <td>QB23P0598</td>\n",
       "      <td>ĐOÀN VÕ KIM NGUYỆT</td>\n",
       "      <td>nguyet.qb23p0598</td>\n",
       "      <td>Pronunciation - Advanced</td>\n",
       "      <td>student</td>\n",
       "      <td>PROA-2025</td>\n",
       "    </tr>\n",
       "    <tr>\n",
       "      <th>3004</th>\n",
       "      <td>HU18P0244</td>\n",
       "      <td>ĐOÀN VÕ QUỲNH CHÂU</td>\n",
       "      <td>quynhchau251</td>\n",
       "      <td>Pronunciation - Advanced</td>\n",
       "      <td>student</td>\n",
       "      <td>PROA-2025</td>\n",
       "    </tr>\n",
       "    <tr>\n",
       "      <th>3005</th>\n",
       "      <td>HU17P0140</td>\n",
       "      <td>ĐOÀN VÕ TRƯỜNG GIANG</td>\n",
       "      <td>doanvotruonggiang2003</td>\n",
       "      <td>Pronunciation - Advanced</td>\n",
       "      <td>student</td>\n",
       "      <td>PROA-2025</td>\n",
       "    </tr>\n",
       "    <tr>\n",
       "      <th>3006</th>\n",
       "      <td>DT18P0597</td>\n",
       "      <td>Đồng Thị Diễm Nhi</td>\n",
       "      <td>nhidong88848</td>\n",
       "      <td>Pronunciation - Advanced</td>\n",
       "      <td>student</td>\n",
       "      <td>PROA-2025</td>\n",
       "    </tr>\n",
       "    <tr>\n",
       "      <th>3007</th>\n",
       "      <td>QB21P0550</td>\n",
       "      <td>ĐỒNG THỊ HƯƠNG GIANG</td>\n",
       "      <td>giang.qb21p0550</td>\n",
       "      <td>Pronunciation - Advanced</td>\n",
       "      <td>student</td>\n",
       "      <td>PROA-2025</td>\n",
       "    </tr>\n",
       "  </tbody>\n",
       "</table>\n",
       "<p>3008 rows × 6 columns</p>\n",
       "</div>"
      ],
      "text/plain": [
       "      firstname              lastname               username  \\\n",
       "0     QG22P0619    Bạch Thị Thanh Hòa          hoa.qg22p0619   \n",
       "1     QN21P0665         BH NƯỚC LY NA           na.qn21p0665   \n",
       "2     QG22P0610          Biện Thị Cẩm          cam.qg22p0610   \n",
       "3     PY17P0058         BIỆN THỊ DIỆU            bienthidieu   \n",
       "4     QG23P0644       BIỆN THỊ NHƯ HÀ           ha.qg23p0644   \n",
       "...         ...                   ...                    ...   \n",
       "3003  QB23P0598    ĐOÀN VÕ KIM NGUYỆT       nguyet.qb23p0598   \n",
       "3004  HU18P0244    ĐOÀN VÕ QUỲNH CHÂU           quynhchau251   \n",
       "3005  HU17P0140  ĐOÀN VÕ TRƯỜNG GIANG  doanvotruonggiang2003   \n",
       "3006  DT18P0597     Đồng Thị Diễm Nhi           nhidong88848   \n",
       "3007  QB21P0550  ĐỒNG THỊ HƯƠNG GIANG        giang.qb21p0550   \n",
       "\n",
       "                       course1    role1    cohort1  \n",
       "0     Pronunciation - Advanced  student  PROA-2025  \n",
       "1     Pronunciation - Advanced  student  PROA-2025  \n",
       "2     Pronunciation - Advanced  student  PROA-2025  \n",
       "3     Pronunciation - Advanced  student  PROA-2025  \n",
       "4     Pronunciation - Advanced  student  PROA-2025  \n",
       "...                        ...      ...        ...  \n",
       "3003  Pronunciation - Advanced  student  PROA-2025  \n",
       "3004  Pronunciation - Advanced  student  PROA-2025  \n",
       "3005  Pronunciation - Advanced  student  PROA-2025  \n",
       "3006  Pronunciation - Advanced  student  PROA-2025  \n",
       "3007  Pronunciation - Advanced  student  PROA-2025  \n",
       "\n",
       "[3008 rows x 6 columns]"
      ]
     },
     "execution_count": 7,
     "metadata": {},
     "output_type": "execute_result"
    }
   ],
   "source": [
    "inter_to_adv"
   ]
  },
  {
   "cell_type": "code",
   "execution_count": 8,
   "id": "71119e06-1c55-41d5-847d-9c54ec262880",
   "metadata": {},
   "outputs": [
    {
     "name": "stdout",
     "output_type": "stream",
     "text": [
      "Kích thước ban đầu của inter_to_adv: (3008, 6)\n",
      "Kích thước sau khi làm sạch: (258, 6)\n"
     ]
    }
   ],
   "source": [
    "# Lấy ra danh sách các email duy nhất từ DataFrame 'begin_to_inter'\n",
    "emails_to_remove = begin_to_inter['firstname'].unique()\n",
    "\n",
    "# Lọc DataFrame 'inter_to_adv' để chỉ giữ lại những hàng\n",
    "# có email KHÔNG nằm trong danh sách cần loại bỏ\n",
    "inter_to_adv_cleaned = inter_to_adv[~inter_to_adv['firstname'].isin(emails_to_remove)]\n",
    "\n",
    "# Kiểm tra lại kích thước để xem bao nhiêu hàng đã bị loại bỏ\n",
    "print(\"Kích thước ban đầu của inter_to_adv:\", inter_to_adv.shape)\n",
    "print(\"Kích thước sau khi làm sạch:\", inter_to_adv_cleaned.shape)"
   ]
  },
  {
   "cell_type": "code",
   "execution_count": null,
   "id": "b776dbec-3040-4619-83f4-fa640052bdd7",
   "metadata": {},
   "outputs": [],
   "source": []
  }
 ],
 "metadata": {
  "kernelspec": {
   "display_name": "Python 3 (ipykernel)",
   "language": "python",
   "name": "python3"
  },
  "language_info": {
   "codemirror_mode": {
    "name": "ipython",
    "version": 3
   },
   "file_extension": ".py",
   "mimetype": "text/x-python",
   "name": "python",
   "nbconvert_exporter": "python",
   "pygments_lexer": "ipython3",
   "version": "3.12.12"
  }
 },
 "nbformat": 4,
 "nbformat_minor": 5
}
