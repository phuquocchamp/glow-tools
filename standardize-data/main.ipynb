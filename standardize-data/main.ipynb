{
 "cells": [
  {
   "cell_type": "code",
   "execution_count": 10,
   "id": "51a34d6b",
   "metadata": {
    "vscode": {
     "languageId": "plaintext"
    }
   },
   "outputs": [
    {
     "name": "stdout",
     "output_type": "stream",
     "text": [
      "Index(['username', 'firstname', 'lastname', 'email'], dtype='object')\n"
     ]
    }
   ],
   "source": [
    "import os\n",
    "import re\n",
    "import pandas\n",
    "from IPython.display import HTML\n",
    "\n",
    "df = pandas.read_csv(\"./data/base-data.csv\")\n",
    "\n",
    "\n",
    "df.drop(columns=[\"id\"], inplace=True)\n",
    "# QT18P0085\n",
    "pattern = r\"[A-Z]{2}[0-9]{2}[A-Z]{1}[0-9]{4}\"\n",
    "\n",
    "# Kiểm tra PALS_ID có khớp với regex hay không, và loại bỏ các giá trị không khớp\n",
    "df = df[df[\"firstname\"].str.match(pattern, na=False)]\n",
    "\n",
    "# Đổi tên và sắp xếp lại thứ tự các cột\n",
    "df = df[[\"username\", \"firstname\", \"lastname\", \"email\"]]\n",
    "\n",
    "# In ra danh sách các cột để kiểm tra thứ tự và tên cột\n",
    "print(df.columns)"
   ]
  },
  {
   "cell_type": "code",
   "execution_count": 11,
   "id": "827e6833-2d96-4cf7-a5ab-0fb043ec9fb3",
   "metadata": {},
   "outputs": [
    {
     "data": {
      "text/html": [
       "<table border=\"1\" class=\"dataframe\">\n",
       "  <thead>\n",
       "    <tr style=\"text-align: right;\">\n",
       "      <th></th>\n",
       "      <th>username</th>\n",
       "      <th>firstname</th>\n",
       "      <th>lastname</th>\n",
       "      <th>email</th>\n",
       "    </tr>\n",
       "  </thead>\n",
       "  <tbody>\n",
       "    <tr>\n",
       "      <th>3</th>\n",
       "      <td>phanthithukieu.22091994</td>\n",
       "      <td>AD22P0002</td>\n",
       "      <td>Phan Thị Kiều Hạnh</td>\n",
       "      <td>Phanthithukieu.22091994@gmail.com</td>\n",
       "    </tr>\n",
       "    <tr>\n",
       "      <th>4</th>\n",
       "      <td>thichgame07</td>\n",
       "      <td>AD22P0003</td>\n",
       "      <td>Giáp Bảo Thiện</td>\n",
       "      <td>thichgame07@gmail.com</td>\n",
       "    </tr>\n",
       "    <tr>\n",
       "      <th>5</th>\n",
       "      <td>nghantran80</td>\n",
       "      <td>AD22P0004</td>\n",
       "      <td>Trần Ngọc Hân</td>\n",
       "      <td>nghantran80@gmail.com</td>\n",
       "    </tr>\n",
       "    <tr>\n",
       "      <th>6</th>\n",
       "      <td>ngthulptc</td>\n",
       "      <td>AD22P0005</td>\n",
       "      <td>Huỳnh Thị Ngọc Thư</td>\n",
       "      <td>ngthulptc@gmail.com</td>\n",
       "    </tr>\n",
       "    <tr>\n",
       "      <th>7</th>\n",
       "      <td>thanhtruongtc00</td>\n",
       "      <td>AD22P0006</td>\n",
       "      <td>Trần Thanh Trường</td>\n",
       "      <td>thanhtruongtc00@gmail.com</td>\n",
       "    </tr>\n",
       "  </tbody>\n",
       "</table>"
      ],
      "text/plain": [
       "<IPython.core.display.HTML object>"
      ]
     },
     "execution_count": 11,
     "metadata": {},
     "output_type": "execute_result"
    }
   ],
   "source": [
    "HTML(df.head().to_html())"
   ]
  },
  {
   "cell_type": "code",
   "execution_count": 12,
   "id": "e9aaa5cd-a55d-4d92-81e9-9465770a7d88",
   "metadata": {},
   "outputs": [],
   "source": [
    "df.to_csv(\"./data/standard-data.csv\", index=False,encoding=\"utf-8-sig\",)"
   ]
  },
  {
   "cell_type": "code",
   "execution_count": null,
   "id": "2176149f-4e39-4cb2-a9ea-e5379411feb2",
   "metadata": {},
   "outputs": [],
   "source": []
  }
 ],
 "metadata": {
  "kernelspec": {
   "display_name": "Python 3 (ipykernel)",
   "language": "python",
   "name": "python3"
  },
  "language_info": {
   "codemirror_mode": {
    "name": "ipython",
    "version": 3
   },
   "file_extension": ".py",
   "mimetype": "text/x-python",
   "name": "python",
   "nbconvert_exporter": "python",
   "pygments_lexer": "ipython3",
   "version": "3.12.0"
  }
 },
 "nbformat": 4,
 "nbformat_minor": 5
}
